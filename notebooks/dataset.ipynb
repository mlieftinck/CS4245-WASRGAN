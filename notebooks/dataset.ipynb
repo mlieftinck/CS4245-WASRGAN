{
 "cells": [
  {
   "cell_type": "code",
   "execution_count": 1,
   "metadata": {},
   "outputs": [],
   "source": [
    "import os\n",
    "from PIL import Image\n",
    "import os\n",
    "import re\n",
    "import matplotlib.pyplot as plt\n",
    "import numpy as np\n",
    "\n",
    "\n",
    "# Define the paths to the two folders\n",
    "dataset_GT_path = \"./../data/Flickr2K\"  # Path to the folder with high-resolution images\n",
    "dataset_WR_path = \"./../data/Flickr2K_LR\"  # Path to the folder with low-resolution image\n",
    "\n",
    "output_path = './../data/Flickr2k_LRWRGT'"
   ]
  },
  {
   "cell_type": "markdown",
   "metadata": {},
   "source": [
    "### Renaming the files to match Flickr2K format"
   ]
  },
  {
   "cell_type": "code",
   "execution_count": 3,
   "metadata": {},
   "outputs": [
    {
     "name": "stdout",
     "output_type": "stream",
     "text": [
      "Renaming completed.\n"
     ]
    }
   ],
   "source": [
    "# Loop through all files in folder2\n",
    "for filename in os.listdir(dataset_WR_path):\n",
    "    if filename.endswith(('.png', '.jpg', '.jpeg')):\n",
    "        # Construct the full file path\n",
    "        old_file_path = os.path.join(dataset_WR_path, filename)\n",
    "        \n",
    "        # Extract the numerical part from the original filename\n",
    "        match = re.search(r'\\d+', filename)\n",
    "        if match:\n",
    "            number = match.group(0).zfill(6)  # Pad the number with leading zeros to ensure it is 6 digits\n",
    "            new_filename = f\"{number}\" + os.path.splitext(filename)[1]  # Retain the file extension\n",
    "            new_file_path = os.path.join(dataset_WR_path, new_filename)\n",
    "            \n",
    "            # Rename the file\n",
    "            os.rename(old_file_path, new_file_path)\n",
    "\n",
    "print(\"Renaming completed.\")"
   ]
  },
  {
   "cell_type": "markdown",
   "metadata": {},
   "source": [
    "## Calculate ratios"
   ]
  },
  {
   "cell_type": "code",
   "execution_count": 5,
   "metadata": {},
   "outputs": [],
   "source": [
    "# Initialize an empty list to store the downscaling ratios\n",
    "downscaling_ratios = []\n",
    "\n",
    "# Loop through all files in folder1\n",
    "for filename in os.listdir(dataset_GT_path):\n",
    "    if filename.endswith(('.png', '.jpg', '.jpeg')):\n",
    "        filename = filename.split('.')[0]\n",
    "        # Construct the full file paths\n",
    "        file1 = os.path.join(dataset_GT_path, filename + '.png')\n",
    "        file2 = os.path.join(dataset_WR_path, filename + '.jpeg')\n",
    "        \n",
    "        # Check if the corresponding file exists in folder2\n",
    "        if os.path.exists(file2):\n",
    "            # Open the images\n",
    "            with Image.open(file1) as img1, Image.open(file2) as img2:\n",
    "                # Get the dimensions of the images\n",
    "                width1, height1 = img1.size\n",
    "                width2, height2 = img2.size\n",
    "                \n",
    "                # Calculate the downscaling ratios\n",
    "                ratio_x = width2 / width1\n",
    "                ratio_y = height2 / height1\n",
    "                \n",
    "                # Store the ratios in the list\n",
    "                downscaling_ratios.append((ratio_x, ratio_y))\n",
    "        # else:\n",
    "        #     print('file 2 not found:', file2)\n"
   ]
  },
  {
   "cell_type": "markdown",
   "metadata": {},
   "source": [
    "## print ratios"
   ]
  },
  {
   "cell_type": "code",
   "execution_count": 6,
   "metadata": {},
   "outputs": [
    {
     "name": "stdout",
     "output_type": "stream",
     "text": [
      "Frequencies of Downscaling Ratio Pairs (X, Y):\n",
      "Pair: (X = 0.7839, Y = 0.7843), Frequency: 24\n",
      "Pair: (X = 0.7841, Y = 0.7843), Frequency: 12\n",
      "Pair: (X = 0.7842, Y = 0.7843), Frequency: 5\n",
      "Pair: (X = 0.7843, Y = 0.7838), Frequency: 5\n",
      "Pair: (X = 0.7843, Y = 0.7838), Frequency: 5\n",
      "Pair: (X = 0.7843, Y = 0.7839), Frequency: 180\n",
      "Pair: (X = 0.7843, Y = 0.7841), Frequency: 65\n",
      "Pair: (X = 0.7843, Y = 0.7842), Frequency: 32\n",
      "Pair: (X = 0.7843, Y = 0.7842), Frequency: 24\n",
      "Pair: (X = 0.7843, Y = 0.7843), Frequency: 11\n",
      "Pair: (X = 0.7890, Y = 0.7883), Frequency: 11\n",
      "Pair: (X = 0.8333, Y = 0.8333), Frequency: 10\n",
      "Pair: (X = 1.0000, Y = 1.0000), Frequency: 12\n"
     ]
    }
   ],
   "source": [
    "# Separate the x and y ratios\n",
    "x_ratios = [ratio[0] for ratio in downscaling_ratios]\n",
    "y_ratios = [ratio[1] for ratio in downscaling_ratios]\n",
    "\n",
    "# Function to print the distinct values with their frequencies\n",
    "def print_ratio_frequencies(ratios, axis_label):\n",
    "    unique, counts = np.unique(ratios, return_counts=True)\n",
    "    print(f\"Frequencies of Downscaling Ratios for {axis_label} Dimension:\")\n",
    "    for value, count in zip(unique, counts):\n",
    "        print(f\"Value: {value:.4f}, Frequency: {count}\")\n",
    "\n",
    "# # Print the downscaling ratios for x and y dimensions\n",
    "# print_ratio_frequencies(x_ratios, 'X')\n",
    "# print_ratio_frequencies(y_ratios, 'Y')\n",
    "\n",
    "\n",
    "# Function to print the distinct pairs with their frequencies\n",
    "def print_ratio_pair_frequencies(ratios):\n",
    "    unique, counts = np.unique(ratios, axis=0, return_counts=True)\n",
    "    print(\"Frequencies of Downscaling Ratio Pairs (X, Y):\")\n",
    "    for value, count in zip(unique, counts):\n",
    "        if count > 4:\n",
    "            print(f\"Pair: (X = {value[0]:.4f}, Y = {value[1]:.4f}), Frequency: {count}\")\n",
    "\n",
    "# Print the downscaling ratio pairs for x and y dimensions\n",
    "print_ratio_pair_frequencies(downscaling_ratios)\n",
    "\n",
    "os.makedirs()"
   ]
  },
  {
   "cell_type": "code",
   "execution_count": 7,
   "metadata": {},
   "outputs": [
    {
     "name": "stdout",
     "output_type": "stream",
     "text": [
      "['000289.jpeg', '000323.jpeg', '000266.jpeg', '000374.jpeg', '000231.jpeg', '000118.jpeg', '000362.jpeg', '000227.jpeg', '000335.jpeg', '000270.jpeg', '000159.jpeg', '000437.jpeg', '000067.jpeg', '000088.jpeg', '000122.jpeg', '000319.jpeg', '000030.jpeg', '000460.jpeg', '000175.jpeg', '000476.jpeg', '000026.jpeg', '000499.jpeg', '000163.jpeg', '000358.jpeg', '000071.jpeg', '000421.jpeg', '000134.jpeg', '000143.jpeg', '000456.jpeg', '000006.jpeg', '000285.jpeg', '000114.jpeg', '000051.jpeg', '000401.jpeg', '000378.jpeg', '000397.jpeg', '000102.jpeg', '000417.jpeg', '000047.jpeg', '000381.jpeg', '000155.jpeg', '000010.jpeg', '000440.jpeg', '000293.jpeg', '000339.jpeg', '000084.jpeg', '000207.jpeg', '000342.jpeg', '000196.jpeg', '000483.jpeg', '000179.jpeg', '000250.jpeg', '000315.jpeg', '000180.jpeg', '000495.jpeg', '000246.jpeg', '000303.jpeg', '000092.jpeg', '000138.jpeg', '000211.jpeg', '000354.jpeg', '000210.jpeg', '000355.jpeg', '000093.jpeg', '000139.jpeg', '000247.jpeg', '000302.jpeg', '000181.jpeg', '000494.jpeg', '000251.jpeg', '000314.jpeg', '000197.jpeg', '000482.jpeg', '000178.jpeg', '000206.jpeg', '.DS_Store', '000343.jpeg', '000085.jpeg', '000292.jpeg', '000338.jpeg', '000154.jpeg', '000011.jpeg', '000441.jpeg', '000380.jpeg', '000103.jpeg', '000416.jpeg', '000046.jpeg', '000379.jpeg', '000396.jpeg', '000115.jpeg', '000050.jpeg', '000400.jpeg', '000284.jpeg', '000142.jpeg', '000457.jpeg', '000007.jpeg', '000070.jpeg', '000420.jpeg', '000135.jpeg', '000359.jpeg', '000477.jpeg', '000027.jpeg', '000498.jpeg', '000162.jpeg', '000031.jpeg', '000461.jpeg', '000174.jpeg', '000318.jpeg', '000436.jpeg', '000066.jpeg', '000089.jpeg', '000123.jpeg', '000158.jpeg', '000334.jpeg', '000271.jpeg', '000363.jpeg', '000226.jpeg', '000119.jpeg', '000375.jpeg', '000230.jpeg', '000288.jpeg', '000322.jpeg', '000267.jpeg', '000145.jpeg', '000450.jpeg', '000329.jpeg', '000283.jpeg', '000112.jpeg', '000057.jpeg', '000407.jpeg', '000391.jpeg', '000104.jpeg', '000411.jpeg', '000041.jpeg', '000368.jpeg', '000387.jpeg', '000153.jpeg', '000016.jpeg', '000446.jpeg', '000295.jpeg', '000128.jpeg', '000082.jpeg', '000201.jpeg', '000344.jpeg', '000190.jpeg', '000485.jpeg', '000256.jpeg', '000313.jpeg', '000186.jpeg', '000493.jpeg', '000169.jpeg', '000240.jpeg', '000305.jpeg', '000094.jpeg', '000217.jpeg', '000352.jpeg', '000325.jpeg', '000260.jpeg', '000149.jpeg', '000372.jpeg', '000237.jpeg', '000364.jpeg', '000221.jpeg', '000108.jpeg', '000333.jpeg', '000299.jpeg', '000276.jpeg', '000348.jpeg', '000431.jpeg', '000061.jpeg', '000124.jpeg', '000036.jpeg', '000466.jpeg', '000489.jpeg', '000173.jpeg', '000309.jpeg', '000470.jpeg', '000020.jpeg', '000165.jpeg', '000077.jpeg', '000427.jpeg', '000132.jpeg', '000098.jpeg', '000076.jpeg', '000426.jpeg', '000133.jpeg', '000099.jpeg', '000471.jpeg', '000021.jpeg', '000164.jpeg', '000308.jpeg', '000037.jpeg', '000467.jpeg', '000488.jpeg', '000172.jpeg', '000430.jpeg', '000060.jpeg', '000125.jpeg', '000349.jpeg', '000332.jpeg', '000298.jpeg', '000277.jpeg', '000109.jpeg', '000365.jpeg', '000220.jpeg', '000373.jpeg', '000236.jpeg', '000148.jpeg', '000324.jpeg', '000261.jpeg', '000216.jpeg', '000353.jpeg', '000095.jpeg', '000241.jpeg', '000304.jpeg', '000187.jpeg', '000492.jpeg', '000168.jpeg', '000257.jpeg', '000312.jpeg', '000191.jpeg', '000484.jpeg', '000200.jpeg', '000345.jpeg', '000129.jpeg', '000083.jpeg', '000294.jpeg', '000152.jpeg', '000017.jpeg', '000447.jpeg', '000369.jpeg', '000386.jpeg', '000105.jpeg', '000410.jpeg', '000040.jpeg', '000390.jpeg', '000113.jpeg', '000056.jpeg', '000406.jpeg', '000328.jpeg', '000282.jpeg', '000144.jpeg', '000451.jpeg', '000001.jpeg', '000350.jpeg', '000215.jpeg', '000096.jpeg', '000429.jpeg', '000079.jpeg', '000307.jpeg', '000242.jpeg', '000491.jpeg', '000184.jpeg', '000311.jpeg', '000254.jpeg', '000487.jpeg', '000192.jpeg', '000468.jpeg', '000038.jpeg', '000346.jpeg', '000203.jpeg', '000080.jpeg', '000278.jpeg', '000297.jpeg', '000014.jpeg', '000444.jpeg', '000151.jpeg', '000385.jpeg', '000413.jpeg', '000043.jpeg', '000106.jpeg', '000393.jpeg', '000239.jpeg', '000055.jpeg', '000405.jpeg', '000110.jpeg', '000281.jpeg', '000452.jpeg', '000002.jpeg', '000147.jpeg', '000130.jpeg', '000075.jpeg', '000425.jpeg', '000219.jpeg', '000167.jpeg', '000188.jpeg', '000472.jpeg', '000022.jpeg', '000171.jpeg', '000034.jpeg', '000464.jpeg', '000258.jpeg', '000126.jpeg', '000433.jpeg', '000063.jpeg', '000448.jpeg', '000018.jpeg', '000274.jpeg', '000331.jpeg', '000389.jpeg', '000223.jpeg', '000366.jpeg', '000409.jpeg', '000059.jpeg', '000235.jpeg', '000370.jpeg', '000262.jpeg', '000327.jpeg', '000263.jpeg', '000326.jpeg', '000234.jpeg', '000371.jpeg', '000408.jpeg', '000058.jpeg', '000388.jpeg', '000222.jpeg', '000367.jpeg', '000275.jpeg', '000330.jpeg', '000449.jpeg', '000019.jpeg', '000127.jpeg', '000432.jpeg', '000062.jpeg', '000259.jpeg', '000170.jpeg', '000035.jpeg', '000465.jpeg', '000166.jpeg', '000189.jpeg', '000473.jpeg', '000023.jpeg', '000218.jpeg', '000131.jpeg', '000074.jpeg', '000424.jpeg', '000453.jpeg', '000003.jpeg', '000146.jpeg', '000280.jpeg', '000054.jpeg', '000404.jpeg', '000111.jpeg', '000392.jpeg', '000238.jpeg', '000412.jpeg', '000042.jpeg', '000107.jpeg', '000384.jpeg', '000015.jpeg', '000445.jpeg', '000150.jpeg', '000500.jpeg', '000279.jpeg', '000296.jpeg', '000081.jpeg', '000347.jpeg', '000202.jpeg', '000486.jpeg', '000193.jpeg', '000469.jpeg', '000039.jpeg', '000310.jpeg', '000255.jpeg', '000490.jpeg', '000185.jpeg', '000306.jpeg', '000243.jpeg', '000097.jpeg', '000428.jpeg', '000078.jpeg', '000351.jpeg', '000214.jpeg', '000136.jpeg', '000073.jpeg', '000423.jpeg', '000161.jpeg', '000474.jpeg', '000024.jpeg', '000248.jpeg', '000177.jpeg', '000032.jpeg', '000198.jpeg', '000462.jpeg', '000120.jpeg', '000435.jpeg', '000065.jpeg', '000209.jpeg', '000272.jpeg', '000337.jpeg', '000049.jpeg', '000419.jpeg', '000225.jpeg', '000360.jpeg', '000233.jpeg', '000399.jpeg', '000376.jpeg', '000008.jpeg', '000458.jpeg', '000264.jpeg', '000321.jpeg', '000356.jpeg', '000213.jpeg', '000090.jpeg', '000301.jpeg', '000244.jpeg', '000497.jpeg', '000028.jpeg', '000182.jpeg', '000478.jpeg', '000317.jpeg', '000252.jpeg', '000481.jpeg', '000194.jpeg', '000340.jpeg', '000205.jpeg', '000086.jpeg', '000069.jpeg', '000439.jpeg', '000291.jpeg', '000012.jpeg', '000442.jpeg', '000157.jpeg', '000229.jpeg', '000383.jpeg', '000415.jpeg', '000045.jpeg', '000100.jpeg', '000395.jpeg', '000053.jpeg', '000403.jpeg', '000116.jpeg', '000268.jpeg', '000287.jpeg', '000454.jpeg', '000004.jpeg', '000141.jpeg', '000455.jpeg', '000005.jpeg', '000140.jpeg', '000269.jpeg', '000286.jpeg', '000052.jpeg', '000402.jpeg', '000117.jpeg', '000394.jpeg', '000414.jpeg', '000044.jpeg', '000101.jpeg', '000228.jpeg', '000382.jpeg', '000013.jpeg', '000443.jpeg', '000156.jpeg', '000290.jpeg', '000087.jpeg', '000068.jpeg', '000438.jpeg', '000341.jpeg', '000204.jpeg', '000480.jpeg', '000195.jpeg', '000316.jpeg', '000253.jpeg', '000496.jpeg', '000029.jpeg', '000183.jpeg', '000479.jpeg', '000300.jpeg', '000245.jpeg', '000091.jpeg', '000357.jpeg', '000212.jpeg', '000265.jpeg', '000320.jpeg', '000009.jpeg', '000459.jpeg', '000232.jpeg', '000398.jpeg', '000377.jpeg', '000224.jpeg', '000361.jpeg', '000048.jpeg', '000418.jpeg', '000273.jpeg', '000336.jpeg', '000208.jpeg', '000121.jpeg', '000434.jpeg', '000064.jpeg', '000176.jpeg', '000033.jpeg', '000199.jpeg', '000463.jpeg', '000249.jpeg', '000160.jpeg', '000475.jpeg', '000025.jpeg', '000137.jpeg', '000072.jpeg', '000422.jpeg']\n",
      "filename 000289\n",
      "saved 000289\n",
      "filename 000323\n",
      "saved 000323\n",
      "filename 000266\n",
      "saved 000266\n",
      "filename 000374\n",
      "saved 000374\n",
      "filename 000231\n",
      "saved 000231\n",
      "filename 000118\n",
      "saved 000118\n",
      "filename 000362\n",
      "saved 000362\n",
      "filename 000227\n",
      "saved 000227\n",
      "filename 000335\n",
      "saved 000335\n",
      "filename 000270\n",
      "saved 000270\n",
      "filename 000159\n",
      "saved 000159\n",
      "filename 000437\n",
      "saved 000437\n",
      "filename 000067\n",
      "saved 000067\n",
      "filename 000088\n",
      "saved 000088\n",
      "filename 000122\n",
      "saved 000122\n",
      "filename 000319\n",
      "saved 000319\n",
      "filename 000030\n",
      "saved 000030\n",
      "filename 000460\n",
      "saved 000460\n",
      "filename 000175\n",
      "saved 000175\n",
      "filename 000476\n"
     ]
    },
    {
     "ename": "KeyboardInterrupt",
     "evalue": "",
     "output_type": "error",
     "traceback": [
      "\u001b[0;31m---------------------------------------------------------------------------\u001b[0m",
      "\u001b[0;31mAttributeError\u001b[0m                            Traceback (most recent call last)",
      "File \u001b[0;32m~/anaconda3/envs/computervision/lib/python3.11/site-packages/PIL/ImageFile.py:536\u001b[0m, in \u001b[0;36m_save\u001b[0;34m(im, fp, tile, bufsize)\u001b[0m\n\u001b[1;32m    535\u001b[0m \u001b[38;5;28;01mtry\u001b[39;00m:\n\u001b[0;32m--> 536\u001b[0m     fh \u001b[38;5;241m=\u001b[39m \u001b[43mfp\u001b[49m\u001b[38;5;241;43m.\u001b[39;49m\u001b[43mfileno\u001b[49m()\n\u001b[1;32m    537\u001b[0m     fp\u001b[38;5;241m.\u001b[39mflush()\n",
      "\u001b[0;31mAttributeError\u001b[0m: '_idat' object has no attribute 'fileno'",
      "\nDuring handling of the above exception, another exception occurred:\n",
      "\u001b[0;31mKeyboardInterrupt\u001b[0m                         Traceback (most recent call last)",
      "Cell \u001b[0;32mIn[7], line 37\u001b[0m\n\u001b[1;32m     34\u001b[0m img_LR\u001b[38;5;241m=\u001b[39m img_WR\u001b[38;5;241m.\u001b[39mresize((new_width, new_height), Image\u001b[38;5;241m.\u001b[39mLANCZOS)\n\u001b[1;32m     36\u001b[0m img_LR\u001b[38;5;241m.\u001b[39msave(os\u001b[38;5;241m.\u001b[39mpath\u001b[38;5;241m.\u001b[39mjoin(dataset_LR_path_output, base_filename \u001b[38;5;241m+\u001b[39m \u001b[38;5;124m'\u001b[39m\u001b[38;5;124m.png\u001b[39m\u001b[38;5;124m'\u001b[39m))\n\u001b[0;32m---> 37\u001b[0m \u001b[43mimg_WR\u001b[49m\u001b[38;5;241;43m.\u001b[39;49m\u001b[43msave\u001b[49m\u001b[43m(\u001b[49m\u001b[43mos\u001b[49m\u001b[38;5;241;43m.\u001b[39;49m\u001b[43mpath\u001b[49m\u001b[38;5;241;43m.\u001b[39;49m\u001b[43mjoin\u001b[49m\u001b[43m(\u001b[49m\u001b[43mdataset_WR_path_output\u001b[49m\u001b[43m,\u001b[49m\u001b[43m \u001b[49m\u001b[43mbase_filename\u001b[49m\u001b[43m \u001b[49m\u001b[38;5;241;43m+\u001b[39;49m\u001b[43m \u001b[49m\u001b[38;5;124;43m'\u001b[39;49m\u001b[38;5;124;43m.png\u001b[39;49m\u001b[38;5;124;43m'\u001b[39;49m\u001b[43m)\u001b[49m\u001b[43m)\u001b[49m\n\u001b[1;32m     38\u001b[0m img_GT\u001b[38;5;241m.\u001b[39msave(os\u001b[38;5;241m.\u001b[39mpath\u001b[38;5;241m.\u001b[39mjoin(dataset_GT_path_output, base_filename \u001b[38;5;241m+\u001b[39m \u001b[38;5;124m'\u001b[39m\u001b[38;5;124m.png\u001b[39m\u001b[38;5;124m'\u001b[39m))\n\u001b[1;32m     40\u001b[0m \u001b[38;5;28mprint\u001b[39m(\u001b[38;5;124m'\u001b[39m\u001b[38;5;124msaved\u001b[39m\u001b[38;5;124m'\u001b[39m, base_filename)\n",
      "File \u001b[0;32m~/anaconda3/envs/computervision/lib/python3.11/site-packages/PIL/Image.py:2459\u001b[0m, in \u001b[0;36mImage.save\u001b[0;34m(self, fp, format, **params)\u001b[0m\n\u001b[1;32m   2456\u001b[0m         fp \u001b[38;5;241m=\u001b[39m builtins\u001b[38;5;241m.\u001b[39mopen(filename, \u001b[38;5;124m\"\u001b[39m\u001b[38;5;124mw+b\u001b[39m\u001b[38;5;124m\"\u001b[39m)\n\u001b[1;32m   2458\u001b[0m \u001b[38;5;28;01mtry\u001b[39;00m:\n\u001b[0;32m-> 2459\u001b[0m     \u001b[43msave_handler\u001b[49m\u001b[43m(\u001b[49m\u001b[38;5;28;43mself\u001b[39;49m\u001b[43m,\u001b[49m\u001b[43m \u001b[49m\u001b[43mfp\u001b[49m\u001b[43m,\u001b[49m\u001b[43m \u001b[49m\u001b[43mfilename\u001b[49m\u001b[43m)\u001b[49m\n\u001b[1;32m   2460\u001b[0m \u001b[38;5;28;01mexcept\u001b[39;00m \u001b[38;5;167;01mException\u001b[39;00m:\n\u001b[1;32m   2461\u001b[0m     \u001b[38;5;28;01mif\u001b[39;00m open_fp:\n",
      "File \u001b[0;32m~/anaconda3/envs/computervision/lib/python3.11/site-packages/PIL/PngImagePlugin.py:1412\u001b[0m, in \u001b[0;36m_save\u001b[0;34m(im, fp, filename, chunk, save_all)\u001b[0m\n\u001b[1;32m   1408\u001b[0m     im \u001b[38;5;241m=\u001b[39m _write_multiple_frames(\n\u001b[1;32m   1409\u001b[0m         im, fp, chunk, rawmode, default_image, append_images\n\u001b[1;32m   1410\u001b[0m     )\n\u001b[1;32m   1411\u001b[0m \u001b[38;5;28;01mif\u001b[39;00m im:\n\u001b[0;32m-> 1412\u001b[0m     \u001b[43mImageFile\u001b[49m\u001b[38;5;241;43m.\u001b[39;49m\u001b[43m_save\u001b[49m\u001b[43m(\u001b[49m\u001b[43mim\u001b[49m\u001b[43m,\u001b[49m\u001b[43m \u001b[49m\u001b[43m_idat\u001b[49m\u001b[43m(\u001b[49m\u001b[43mfp\u001b[49m\u001b[43m,\u001b[49m\u001b[43m \u001b[49m\u001b[43mchunk\u001b[49m\u001b[43m)\u001b[49m\u001b[43m,\u001b[49m\u001b[43m \u001b[49m\u001b[43m[\u001b[49m\u001b[43m(\u001b[49m\u001b[38;5;124;43m\"\u001b[39;49m\u001b[38;5;124;43mzip\u001b[39;49m\u001b[38;5;124;43m\"\u001b[39;49m\u001b[43m,\u001b[49m\u001b[43m \u001b[49m\u001b[43m(\u001b[49m\u001b[38;5;241;43m0\u001b[39;49m\u001b[43m,\u001b[49m\u001b[43m \u001b[49m\u001b[38;5;241;43m0\u001b[39;49m\u001b[43m)\u001b[49m\u001b[43m \u001b[49m\u001b[38;5;241;43m+\u001b[39;49m\u001b[43m \u001b[49m\u001b[43mim\u001b[49m\u001b[38;5;241;43m.\u001b[39;49m\u001b[43msize\u001b[49m\u001b[43m,\u001b[49m\u001b[43m \u001b[49m\u001b[38;5;241;43m0\u001b[39;49m\u001b[43m,\u001b[49m\u001b[43m \u001b[49m\u001b[43mrawmode\u001b[49m\u001b[43m)\u001b[49m\u001b[43m]\u001b[49m\u001b[43m)\u001b[49m\n\u001b[1;32m   1414\u001b[0m \u001b[38;5;28;01mif\u001b[39;00m info:\n\u001b[1;32m   1415\u001b[0m     \u001b[38;5;28;01mfor\u001b[39;00m info_chunk \u001b[38;5;129;01min\u001b[39;00m info\u001b[38;5;241m.\u001b[39mchunks:\n",
      "File \u001b[0;32m~/anaconda3/envs/computervision/lib/python3.11/site-packages/PIL/ImageFile.py:540\u001b[0m, in \u001b[0;36m_save\u001b[0;34m(im, fp, tile, bufsize)\u001b[0m\n\u001b[1;32m    538\u001b[0m     _encode_tile(im, fp, tile, bufsize, fh)\n\u001b[1;32m    539\u001b[0m \u001b[38;5;28;01mexcept\u001b[39;00m (\u001b[38;5;167;01mAttributeError\u001b[39;00m, io\u001b[38;5;241m.\u001b[39mUnsupportedOperation) \u001b[38;5;28;01mas\u001b[39;00m exc:\n\u001b[0;32m--> 540\u001b[0m     \u001b[43m_encode_tile\u001b[49m\u001b[43m(\u001b[49m\u001b[43mim\u001b[49m\u001b[43m,\u001b[49m\u001b[43m \u001b[49m\u001b[43mfp\u001b[49m\u001b[43m,\u001b[49m\u001b[43m \u001b[49m\u001b[43mtile\u001b[49m\u001b[43m,\u001b[49m\u001b[43m \u001b[49m\u001b[43mbufsize\u001b[49m\u001b[43m,\u001b[49m\u001b[43m \u001b[49m\u001b[38;5;28;43;01mNone\u001b[39;49;00m\u001b[43m,\u001b[49m\u001b[43m \u001b[49m\u001b[43mexc\u001b[49m\u001b[43m)\u001b[49m\n\u001b[1;32m    541\u001b[0m \u001b[38;5;28;01mif\u001b[39;00m \u001b[38;5;28mhasattr\u001b[39m(fp, \u001b[38;5;124m\"\u001b[39m\u001b[38;5;124mflush\u001b[39m\u001b[38;5;124m\"\u001b[39m):\n\u001b[1;32m    542\u001b[0m     fp\u001b[38;5;241m.\u001b[39mflush()\n",
      "File \u001b[0;32m~/anaconda3/envs/computervision/lib/python3.11/site-packages/PIL/ImageFile.py:559\u001b[0m, in \u001b[0;36m_encode_tile\u001b[0;34m(im, fp, tile, bufsize, fh, exc)\u001b[0m\n\u001b[1;32m    556\u001b[0m \u001b[38;5;28;01mif\u001b[39;00m exc:\n\u001b[1;32m    557\u001b[0m     \u001b[38;5;66;03m# compress to Python file-compatible object\u001b[39;00m\n\u001b[1;32m    558\u001b[0m     \u001b[38;5;28;01mwhile\u001b[39;00m \u001b[38;5;28;01mTrue\u001b[39;00m:\n\u001b[0;32m--> 559\u001b[0m         errcode, data \u001b[38;5;241m=\u001b[39m \u001b[43mencoder\u001b[49m\u001b[38;5;241;43m.\u001b[39;49m\u001b[43mencode\u001b[49m\u001b[43m(\u001b[49m\u001b[43mbufsize\u001b[49m\u001b[43m)\u001b[49m[\u001b[38;5;241m1\u001b[39m:]\n\u001b[1;32m    560\u001b[0m         fp\u001b[38;5;241m.\u001b[39mwrite(data)\n\u001b[1;32m    561\u001b[0m         \u001b[38;5;28;01mif\u001b[39;00m errcode:\n",
      "\u001b[0;31mKeyboardInterrupt\u001b[0m: "
     ]
    }
   ],
   "source": [
    "# Make folders in output folder\n",
    "dataset_LR_path_output = os.path.join(output_path, 'dataset_LRW')\n",
    "dataset_WR_path_output = os.path.join(output_path, 'dataset_WR')\n",
    "dataset_GT_path_output = os.path.join(output_path, 'dataset_GT')\n",
    "\n",
    "os.makedirs(dataset_LR_path_output, exist_ok=True)\n",
    "os.makedirs(dataset_WR_path_output, exist_ok=True)\n",
    "os.makedirs(dataset_GT_path_output, exist_ok=True)\n",
    "\n",
    "print(os.listdir(dataset_WR_path))\n",
    "\n",
    "\n",
    "for filename in os.listdir(dataset_WR_path):\n",
    "    if filename.endswith(('.png', '.jpg', '.jpeg')):\n",
    "        base_filename = filename.split('.')[0]\n",
    "\n",
    "        print(\"filename\", base_filename)\n",
    "\n",
    "        # Construct the full file paths\n",
    "        file_GT = os.path.join(dataset_GT_path, base_filename + '.png')\n",
    "        file_WR = os.path.join(dataset_WR_path, base_filename + '.jpeg')\n",
    "        \n",
    "        # Check if the corresponding file exists in the GT folder\n",
    "        if os.path.exists(file_GT) and os.path.exists(file_WR):\n",
    "            with Image.open(file_GT) as img_GT, Image.open(file_WR) as img_WR:\n",
    "                # Get the dimensions of the GT image\n",
    "                width_GT, height_GT = img_GT.size\n",
    "                \n",
    "                # Calculate the new dimensions for the LR image\n",
    "                new_width = width_GT // 2\n",
    "                new_height = height_GT // 2\n",
    "                \n",
    "                # Resize the LR image\n",
    "                img_LR= img_WR.resize((new_width, new_height), Image.LANCZOS)\n",
    "                \n",
    "                # img_LR.save(os.path.join(dataset_LR_path_output, base_filename + '.png'))\n",
    "                # img_WR.save(os.path.join(dataset_WR_path_output, base_filename + '.png'))\n",
    "                # img_GT.save(os.path.join(dataset_GT_path_output, base_filename + '.png'))\n",
    "\n",
    "                print('saved', base_filename)\n",
    "\n",
    "\n"
   ]
  },
  {
   "cell_type": "code",
   "execution_count": 14,
   "metadata": {},
   "outputs": [
    {
     "name": "stdout",
     "output_type": "stream",
     "text": [
      "Images with unequal patch counts: []\n",
      "Images missing in directory 1: set()\n",
      "Images missing in directory 2: set()\n"
     ]
    }
   ],
   "source": [
    "import os\n",
    "from collections import defaultdict\n",
    "\n",
    "def get_patch_counts(directory):\n",
    "    patch_counts = defaultdict(int)\n",
    "    image_numbers = set()\n",
    "    \n",
    "    for filename in os.listdir(directory):\n",
    "        if filename.endswith('.png'):\n",
    "            image_number, patch_number = filename.split('_')\n",
    "            patch_number = patch_number.split('.')[0]\n",
    "            patch_counts[image_number] += 1\n",
    "            image_numbers.add(image_number)\n",
    "    \n",
    "    return patch_counts, image_numbers\n",
    "\n",
    "\n",
    "def compare_directories(dir1, dir2):\n",
    "    patch_counts_dir1, image_numbers_dir1 = get_patch_counts(dir1)\n",
    "    patch_counts_dir2, image_numbers_dir2 = get_patch_counts(dir2)\n",
    "    \n",
    "    unequal_patch_images = []\n",
    "    all_image_numbers = image_numbers_dir1.union(image_numbers_dir2)\n",
    "    \n",
    "    missing_in_dir1 = image_numbers_dir2 - image_numbers_dir1\n",
    "    missing_in_dir2 = image_numbers_dir1 - image_numbers_dir2\n",
    "    \n",
    "    for image_number in all_image_numbers:\n",
    "        count_dir1 = patch_counts_dir1.get(image_number, 0)\n",
    "        count_dir2 = patch_counts_dir2.get(image_number, 0)\n",
    "        if count_dir1 != count_dir2:\n",
    "            unequal_patch_images.append(image_number)\n",
    "    \n",
    "    return unequal_patch_images, missing_in_dir1, missing_in_dir2\n",
    "\n",
    "\n",
    "\n",
    "dir1 = os.path.join(output_path, 'dataset_LRW_patches')\n",
    "dir2 = os.path.join(output_path, 'dataset_GT_patches')\n",
    "\n",
    "unequal_patches, missing_in_dir1, missing_in_dir2 = compare_directories(dir1, dir2)\n",
    "\n",
    "print(\"Images with unequal patch counts:\", unequal_patches)\n",
    "print(\"Images missing in directory 1:\", missing_in_dir1)\n",
    "print(\"Images missing in directory 2:\", missing_in_dir2)\n"
   ]
  },
  {
   "cell_type": "code",
   "execution_count": 15,
   "metadata": {},
   "outputs": [
    {
     "name": "stdout",
     "output_type": "stream",
     "text": [
      "Files present in directory 2 but not in directory 1:\n",
      "\n",
      "Files present in directory 1 but not in directory 2:\n"
     ]
    }
   ],
   "source": [
    "import os\n",
    "\n",
    "def get_filenames(directory):\n",
    "    filenames = set()\n",
    "    for filename in os.listdir(directory):\n",
    "        if filename.endswith('.png'):\n",
    "            filenames.add(filename)\n",
    "    return filenames\n",
    "\n",
    "def find_missing_files(dir1, dir2):\n",
    "    filenames_dir1 = get_filenames(dir1)\n",
    "    filenames_dir2 = get_filenames(dir2)\n",
    "    \n",
    "    missing_in_dir1 = filenames_dir2 - filenames_dir1\n",
    "    missing_in_dir2 = filenames_dir1 - filenames_dir2\n",
    "    \n",
    "    return missing_in_dir1, missing_in_dir2\n",
    "\n",
    "# Example usage\n",
    "dir1 = os.path.join(output_path, 'dataset_LRW_patches')\n",
    "dir2 = os.path.join(output_path, 'dataset_GT_patches')\n",
    "\n",
    "missing_in_dir1, missing_in_dir2 = find_missing_files(dir1, dir2)\n",
    "\n",
    "print(\"Files present in directory 2 but not in directory 1:\")\n",
    "for filename in missing_in_dir1:\n",
    "    print(filename)\n",
    "\n",
    "print(\"\\nFiles present in directory 1 but not in directory 2:\")\n",
    "for filename in missing_in_dir2:\n",
    "    print(filename)\n"
   ]
  },
  {
   "cell_type": "code",
   "execution_count": 18,
   "metadata": {},
   "outputs": [
    {
     "name": "stdout",
     "output_type": "stream",
     "text": [
      "./../data/Flickr2k_LRWRGT/dataset_LRW_patches 67569\n",
      "./../data/Flickr2k_LRWRGT/dataset_GT_patches 67569\n",
      "Files present in directory 2 but not in directory 1:\n",
      "\n",
      "Files present in directory 1 but not in directory 2:\n"
     ]
    }
   ],
   "source": [
    "import os\n",
    "\n",
    "def get_filenames(directory):\n",
    "    filenames = set()\n",
    "    for filename in os.listdir(directory):\n",
    "        filenames.add(filename)\n",
    "    print(directory, len(filenames))\n",
    "    return filenames\n",
    "\n",
    "def find_missing_files(dir1, dir2):\n",
    "    filenames_dir1 = get_filenames(dir1)\n",
    "    filenames_dir2 = get_filenames(dir2)\n",
    "    \n",
    "    missing_in_dir1 = filenames_dir2 - filenames_dir1\n",
    "    missing_in_dir2 = filenames_dir1 - filenames_dir2\n",
    "    \n",
    "    return missing_in_dir1, missing_in_dir2\n",
    "\n",
    "# Example usage\n",
    "dir1 = os.path.join(output_path, 'dataset_LRW_patches')\n",
    "dir2 = os.path.join(output_path, 'dataset_GT_patches')\n",
    "\n",
    "missing_in_dir1, missing_in_dir2 = find_missing_files(dir1, dir2)\n",
    "\n",
    "print(\"Files present in directory 2 but not in directory 1:\")\n",
    "for filename in missing_in_dir1:\n",
    "    print(filename)\n",
    "\n",
    "print(\"\\nFiles present in directory 1 but not in directory 2:\")\n",
    "for filename in missing_in_dir2:\n",
    "    print(filename)\n"
   ]
  }
 ],
 "metadata": {
  "kernelspec": {
   "display_name": "computervision",
   "language": "python",
   "name": "python3"
  },
  "language_info": {
   "codemirror_mode": {
    "name": "ipython",
    "version": 3
   },
   "file_extension": ".py",
   "mimetype": "text/x-python",
   "name": "python",
   "nbconvert_exporter": "python",
   "pygments_lexer": "ipython3",
   "version": "3.11.9"
  }
 },
 "nbformat": 4,
 "nbformat_minor": 2
}
